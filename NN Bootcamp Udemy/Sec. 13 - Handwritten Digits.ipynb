{
 "cells": [
  {
   "cell_type": "markdown",
   "id": "0f89c4c6",
   "metadata": {},
   "source": [
    "# Library"
   ]
  },
  {
   "cell_type": "code",
   "execution_count": 1,
   "id": "9e3b1cc7",
   "metadata": {},
   "outputs": [],
   "source": [
    "import torch\n",
    "import torch.nn as nn\n",
    "import torchvision.datasets as datasets\n",
    "import torchvision.transforms as transforms\n",
    "from torch.autograd import Variable"
   ]
  },
  {
   "cell_type": "code",
   "execution_count": 2,
   "id": "9ae8036d",
   "metadata": {},
   "outputs": [],
   "source": [
    "# konfigurasi\n",
    "input_size = 784 # 28 x 28 (panjang x lebar)\n",
    "hidden_size = 400 # jumlah neuron pada hidden layer\n",
    "out_size = 10 # jumlah neuron pada output layer (0-9 : 10 digit)\n",
    "batch_size = 100 # banyak sampel yang akan diproses dalam satu iterasi\n",
    "epochs = 5\n",
    "learning_rate = 0.001 # LR untuk optimizer"
   ]
  },
  {
   "cell_type": "code",
   "execution_count": 3,
   "id": "5f859383",
   "metadata": {},
   "outputs": [
    {
     "name": "stderr",
     "output_type": "stream",
     "text": [
      "100%|██████████| 9.91M/9.91M [02:48<00:00, 59.0kB/s]\n",
      "100%|██████████| 28.9k/28.9k [00:00<00:00, 33.6kB/s]\n",
      "100%|██████████| 1.65M/1.65M [00:23<00:00, 69.7kB/s]\n",
      "100%|██████████| 4.54k/4.54k [00:00<00:00, 4.55MB/s]\n"
     ]
    }
   ],
   "source": [
    "# unduh dataset MNIST\n",
    "train_dataset = datasets.MNIST(root='./data', train=True, transform=transforms.ToTensor(), download=True)\n",
    "\n",
    "test_dataset = datasets.MNIST(root='./data', train=False, transform=transforms.ToTensor())"
   ]
  },
  {
   "cell_type": "code",
   "execution_count": 7,
   "id": "c9e7fb92",
   "metadata": {},
   "outputs": [],
   "source": [
    "# data loader\n",
    "train_loader = torch.utils.data.DataLoader(dataset=train_dataset,\n",
    "                                           batch_size=batch_size,\n",
    "                                           shuffle=True)\n",
    "\n",
    "test_loader = torch.utils.data.DataLoader(dataset=test_dataset,\n",
    "                                          batch_size=batch_size,\n",
    "                                          shuffle=False)"
   ]
  },
  {
   "cell_type": "markdown",
   "id": "2a5ceabc",
   "metadata": {},
   "source": [
    "# Model"
   ]
  },
  {
   "cell_type": "code",
   "execution_count": null,
   "id": "90a5a6b3",
   "metadata": {},
   "outputs": [],
   "source": [
    "class Net(nn.Module):\n",
    "    def __init__(self, input_size, hidden_size, out_size):\n",
    "        '''\n",
    "        Inisialisasi arstektur model \n",
    "        Args :\n",
    "            input_size : ukuran fitur atau innput\n",
    "            hidden_size : ukuran neuron pada hidden layer\n",
    "            out_size : ukuran neuron untuk output (banyak kelas label/target)\n",
    "\n",
    "            fc1, fc2, fc3 : tiga lapisan fully connected\n",
    "            relu : aktivasi relu\n",
    "        '''\n",
    "        super(Net, self).__init__()\n",
    "        self.fc1 = nn.Linear(input_size, hidden_size)\n",
    "        self.fc2 = nn.Linear(hidden_size, hidden_size)\n",
    "        self.fc3 = nn.Linear(hidden_size, out_size)\n",
    "        self.relu = nn.ReLU()\n",
    "\n",
    "        def forward(self, x):\n",
    "            '''\n",
    "            Proses forward\n",
    "            '''\n",
    "            out = self.fc1(x)\n",
    "            out = self.relu(out)\n",
    "            out = self.fc2(out)\n",
    "            out = self.relu(out)\n",
    "            out = self.fc3(out)\n",
    "            \n",
    "            return out\n"
   ]
  }
 ],
 "metadata": {
  "kernelspec": {
   "display_name": "Python 3",
   "language": "python",
   "name": "python3"
  },
  "language_info": {
   "codemirror_mode": {
    "name": "ipython",
    "version": 3
   },
   "file_extension": ".py",
   "mimetype": "text/x-python",
   "name": "python",
   "nbconvert_exporter": "python",
   "pygments_lexer": "ipython3",
   "version": "3.11.0"
  }
 },
 "nbformat": 4,
 "nbformat_minor": 5
}
