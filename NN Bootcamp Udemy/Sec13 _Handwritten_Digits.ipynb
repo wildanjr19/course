{
 "cells": [
  {
   "cell_type": "markdown",
   "id": "0f89c4c6",
   "metadata": {},
   "source": [
    "# Library"
   ]
  },
  {
   "cell_type": "code",
   "execution_count": 2,
   "id": "9e3b1cc7",
   "metadata": {},
   "outputs": [],
   "source": [
    "import torch\n",
    "import torch.nn as nn\n",
    "import torchvision.datasets as datasets\n",
    "import torchvision.transforms as transforms\n",
    "from torch.autograd import Variable"
   ]
  },
  {
   "cell_type": "markdown",
   "id": "a886198b",
   "metadata": {},
   "source": [
    "# Congfig"
   ]
  },
  {
   "cell_type": "code",
   "execution_count": 19,
   "id": "9ae8036d",
   "metadata": {},
   "outputs": [],
   "source": [
    "# konfigurasi\n",
    "input_size = 784 # 28 x 28 (panjang x lebar)\n",
    "hidden_size = 400 # jumlah neuron pada hidden layer\n",
    "out_size = 10 # jumlah neuron pada output layer (0-9 : 10 digit)\n",
    "batch_size = 100 # banyak sampel yang akan diproses dalam satu iterasi\n",
    "epochs = 10\n",
    "learning_rate = 0.001 # LR untuk optimizer"
   ]
  },
  {
   "cell_type": "markdown",
   "id": "fe7d62c5",
   "metadata": {},
   "source": [
    "# Dataset"
   ]
  },
  {
   "cell_type": "code",
   "execution_count": 4,
   "id": "5f859383",
   "metadata": {},
   "outputs": [],
   "source": [
    "# unduh dataset MNIST\n",
    "train_dataset = datasets.MNIST(root='./data', train=True, transform=transforms.ToTensor(), download=True)\n",
    "\n",
    "test_dataset = datasets.MNIST(root='./data', train=False, transform=transforms.ToTensor())"
   ]
  },
  {
   "cell_type": "code",
   "execution_count": 5,
   "id": "c9e7fb92",
   "metadata": {},
   "outputs": [],
   "source": [
    "# data loader\n",
    "train_loader = torch.utils.data.DataLoader(dataset=train_dataset,\n",
    "                                           batch_size=batch_size,\n",
    "                                           shuffle=True)\n",
    "\n",
    "test_loader = torch.utils.data.DataLoader(dataset=test_dataset,\n",
    "                                          batch_size=batch_size,\n",
    "                                          shuffle=False)"
   ]
  },
  {
   "cell_type": "code",
   "execution_count": null,
   "id": "65f8f03a",
   "metadata": {},
   "outputs": [],
   "source": [
    "# lihat train loader\n",
    "# for i, (images, labels) in enumerate(train_loader):\n",
    "    # print(images.size())\n",
    "    # images = images.view(-1, 28 * 28)  # ubah ukuran gambar menjadi vektor 1D\n",
    "    # print(images.size())\n",
    "\n",
    "    # output : (batch_size, 784)"
   ]
  },
  {
   "cell_type": "code",
   "execution_count": null,
   "id": "31dcde11",
   "metadata": {},
   "outputs": [],
   "source": [
    "# melihat data pada data loader\n",
    "print(\"Ada {} batch di dataset\".format(len(train_loader)))\n",
    "\n",
    "for (x, y) in train_loader:\n",
    "    print(\"Untuk satu iterasi (batch) ada :\")\n",
    "    print(\"Data : {}\".format(x.shape))\n",
    "    print(\"Label : {}\".format(y.shape))\n",
    "    break"
   ]
  },
  {
   "cell_type": "markdown",
   "id": "2a5ceabc",
   "metadata": {},
   "source": [
    "# Model"
   ]
  },
  {
   "cell_type": "code",
   "execution_count": 12,
   "id": "90a5a6b3",
   "metadata": {},
   "outputs": [],
   "source": [
    "class Net(nn.Module):\n",
    "    def __init__(self, input_size, hidden_size, out_size):\n",
    "        '''\n",
    "        Inisialisasi arstektur model \n",
    "        Args :\n",
    "            input_size : ukuran fitur atau innput\n",
    "            hidden_size : ukuran neuron pada hidden layer\n",
    "            out_size : ukuran neuron untuk output (banyak kelas label/target)\n",
    "\n",
    "            fc1, fc2, fc3 : tiga lapisan fully connected\n",
    "            relu : aktivasi relu\n",
    "        '''\n",
    "        super(Net, self).__init__()\n",
    "        self.fc1 = nn.Linear(input_size, hidden_size)\n",
    "        self.fc2 = nn.Linear(hidden_size, hidden_size)\n",
    "        self.fc3 = nn.Linear(hidden_size, out_size)\n",
    "        self.relu = nn.ReLU()\n",
    "\n",
    "    def forward(self, x):\n",
    "        '''\n",
    "        Proses forward\n",
    "        '''\n",
    "        out = self.fc1(x)\n",
    "        out = self.relu(out)\n",
    "        out = self.fc2(out)\n",
    "        out = self.relu(out)\n",
    "        out = self.fc3(out)\n",
    "            \n",
    "        return out"
   ]
  },
  {
   "cell_type": "code",
   "execution_count": 13,
   "id": "b93cd1a7",
   "metadata": {},
   "outputs": [],
   "source": [
    "net = Net(input_size, hidden_size, out_size)\n",
    "\n",
    "CUDA = torch.cuda.is_available()\n",
    "\n",
    "if CUDA:                # mengembalikan boolean\n",
    "    net = net.cuda()"
   ]
  },
  {
   "cell_type": "code",
   "execution_count": 14,
   "id": "836d86c1",
   "metadata": {},
   "outputs": [],
   "source": [
    "# loss function\n",
    "criterion = nn.CrossEntropyLoss() # comes along with sofmax\n",
    "\n",
    "# optimizer\n",
    "optimizer = torch.optim.Adam(net.parameters(), lr=learning_rate)"
   ]
  },
  {
   "cell_type": "markdown",
   "id": "8dff8b98",
   "metadata": {},
   "source": [
    "# Training loop"
   ]
  },
  {
   "cell_type": "code",
   "execution_count": 21,
   "id": "c78dab17",
   "metadata": {},
   "outputs": [
    {
     "name": "stdout",
     "output_type": "stream",
     "text": [
      "Epoch 1/10 | Iterasi 100/600 | Loss Training : 0.01 | Akurasi Training :  99.61%\n",
      "Epoch 1/10 | Iterasi 200/600 | Loss Training : 0.05 | Akurasi Training :  99.60%\n",
      "Epoch 1/10 | Iterasi 300/600 | Loss Training : 0.07 | Akurasi Training :  99.53%\n",
      "Epoch 1/10 | Iterasi 400/600 | Loss Training : 0.03 | Akurasi Training :  99.46%\n",
      "Epoch 1/10 | Iterasi 500/600 | Loss Training : 0.03 | Akurasi Training :  99.47%\n",
      "Epoch 1/10 | Iterasi 600/600 | Loss Training : 0.00 | Akurasi Training :  99.48%\n",
      "Epoch 2/10 | Iterasi 100/600 | Loss Training : 0.00 | Akurasi Training :  99.52%\n",
      "Epoch 2/10 | Iterasi 200/600 | Loss Training : 0.05 | Akurasi Training :  99.54%\n",
      "Epoch 2/10 | Iterasi 300/600 | Loss Training : 0.00 | Akurasi Training :  99.55%\n",
      "Epoch 2/10 | Iterasi 400/600 | Loss Training : 0.00 | Akurasi Training :  99.53%\n",
      "Epoch 2/10 | Iterasi 500/600 | Loss Training : 0.02 | Akurasi Training :  99.51%\n",
      "Epoch 2/10 | Iterasi 600/600 | Loss Training : 0.03 | Akurasi Training :  99.50%\n",
      "Epoch 3/10 | Iterasi 100/600 | Loss Training : 0.00 | Akurasi Training :  99.51%\n",
      "Epoch 3/10 | Iterasi 200/600 | Loss Training : 0.02 | Akurasi Training :  99.52%\n",
      "Epoch 3/10 | Iterasi 300/600 | Loss Training : 0.02 | Akurasi Training :  99.53%\n",
      "Epoch 3/10 | Iterasi 400/600 | Loss Training : 0.00 | Akurasi Training :  99.53%\n",
      "Epoch 3/10 | Iterasi 500/600 | Loss Training : 0.10 | Akurasi Training :  99.53%\n",
      "Epoch 3/10 | Iterasi 600/600 | Loss Training : 0.01 | Akurasi Training :  99.54%\n",
      "Epoch 4/10 | Iterasi 100/600 | Loss Training : 0.02 | Akurasi Training :  99.55%\n",
      "Epoch 4/10 | Iterasi 200/600 | Loss Training : 0.01 | Akurasi Training :  99.55%\n",
      "Epoch 4/10 | Iterasi 300/600 | Loss Training : 0.02 | Akurasi Training :  99.55%\n",
      "Epoch 4/10 | Iterasi 400/600 | Loss Training : 0.00 | Akurasi Training :  99.56%\n",
      "Epoch 4/10 | Iterasi 500/600 | Loss Training : 0.02 | Akurasi Training :  99.55%\n",
      "Epoch 4/10 | Iterasi 600/600 | Loss Training : 0.00 | Akurasi Training :  99.55%\n",
      "Epoch 5/10 | Iterasi 100/600 | Loss Training : 0.00 | Akurasi Training :  99.56%\n",
      "Epoch 5/10 | Iterasi 200/600 | Loss Training : 0.02 | Akurasi Training :  99.57%\n",
      "Epoch 5/10 | Iterasi 300/600 | Loss Training : 0.01 | Akurasi Training :  99.58%\n",
      "Epoch 5/10 | Iterasi 400/600 | Loss Training : 0.00 | Akurasi Training :  99.58%\n",
      "Epoch 5/10 | Iterasi 500/600 | Loss Training : 0.02 | Akurasi Training :  99.59%\n",
      "Epoch 5/10 | Iterasi 600/600 | Loss Training : 0.04 | Akurasi Training :  99.59%\n",
      "Epoch 6/10 | Iterasi 100/600 | Loss Training : 0.03 | Akurasi Training :  99.59%\n",
      "Epoch 6/10 | Iterasi 200/600 | Loss Training : 0.07 | Akurasi Training :  99.59%\n",
      "Epoch 6/10 | Iterasi 300/600 | Loss Training : 0.01 | Akurasi Training :  99.59%\n",
      "Epoch 6/10 | Iterasi 400/600 | Loss Training : 0.00 | Akurasi Training :  99.59%\n",
      "Epoch 6/10 | Iterasi 500/600 | Loss Training : 0.01 | Akurasi Training :  99.59%\n",
      "Epoch 6/10 | Iterasi 600/600 | Loss Training : 0.02 | Akurasi Training :  99.60%\n",
      "Epoch 7/10 | Iterasi 100/600 | Loss Training : 0.00 | Akurasi Training :  99.60%\n",
      "Epoch 7/10 | Iterasi 200/600 | Loss Training : 0.02 | Akurasi Training :  99.60%\n",
      "Epoch 7/10 | Iterasi 300/600 | Loss Training : 0.01 | Akurasi Training :  99.60%\n",
      "Epoch 7/10 | Iterasi 400/600 | Loss Training : 0.00 | Akurasi Training :  99.61%\n",
      "Epoch 7/10 | Iterasi 500/600 | Loss Training : 0.00 | Akurasi Training :  99.62%\n",
      "Epoch 7/10 | Iterasi 600/600 | Loss Training : 0.02 | Akurasi Training :  99.62%\n",
      "Epoch 8/10 | Iterasi 100/600 | Loss Training : 0.04 | Akurasi Training :  99.62%\n",
      "Epoch 8/10 | Iterasi 200/600 | Loss Training : 0.05 | Akurasi Training :  99.62%\n",
      "Epoch 8/10 | Iterasi 300/600 | Loss Training : 0.02 | Akurasi Training :  99.62%\n",
      "Epoch 8/10 | Iterasi 400/600 | Loss Training : 0.02 | Akurasi Training :  99.62%\n",
      "Epoch 8/10 | Iterasi 500/600 | Loss Training : 0.02 | Akurasi Training :  99.62%\n",
      "Epoch 8/10 | Iterasi 600/600 | Loss Training : 0.00 | Akurasi Training :  99.63%\n",
      "Epoch 9/10 | Iterasi 100/600 | Loss Training : 0.02 | Akurasi Training :  99.63%\n",
      "Epoch 9/10 | Iterasi 200/600 | Loss Training : 0.00 | Akurasi Training :  99.63%\n",
      "Epoch 9/10 | Iterasi 300/600 | Loss Training : 0.00 | Akurasi Training :  99.64%\n",
      "Epoch 9/10 | Iterasi 400/600 | Loss Training : 0.00 | Akurasi Training :  99.64%\n",
      "Epoch 9/10 | Iterasi 500/600 | Loss Training : 0.00 | Akurasi Training :  99.64%\n",
      "Epoch 9/10 | Iterasi 600/600 | Loss Training : 0.01 | Akurasi Training :  99.64%\n",
      "Epoch 10/10 | Iterasi 100/600 | Loss Training : 0.00 | Akurasi Training :  99.64%\n",
      "Epoch 10/10 | Iterasi 200/600 | Loss Training : 0.00 | Akurasi Training :  99.65%\n",
      "Epoch 10/10 | Iterasi 300/600 | Loss Training : 0.00 | Akurasi Training :  99.65%\n",
      "Epoch 10/10 | Iterasi 400/600 | Loss Training : 0.00 | Akurasi Training :  99.64%\n",
      "Epoch 10/10 | Iterasi 500/600 | Loss Training : 0.02 | Akurasi Training :  99.64%\n",
      "Epoch 10/10 | Iterasi 600/600 | Loss Training : 0.00 | Akurasi Training :  99.64%\n",
      "Training Selesai!\n"
     ]
    }
   ],
   "source": [
    "correct_train = 0\n",
    "total_train = 0\n",
    "\n",
    "for epoch in range(epochs):\n",
    "    for i, (images, labels) in enumerate(train_loader):\n",
    "        # ubak ukuran gambar menjadi vektor 1D (batch, 1, 28, 28) -> (batch, 784)\n",
    "        # Wrap ke variable\n",
    "        images = Variable(images.view(-1, 28 * 28))\n",
    "        labels = Variable(labels)\n",
    "\n",
    "        # pindahkan ke GPU\n",
    "        if CUDA:\n",
    "            images = images.cuda()\n",
    "            labels = labels.cuda()\n",
    "\n",
    "        # kembalikan gradien ke nol\n",
    "        optimizer.zero_grad()\n",
    "\n",
    "        # forward\n",
    "        outputs = net(images)\n",
    "\n",
    "        # dapatkan indeks dari output dengan probabilitas tertinggi\n",
    "        _, predicted = torch.max(outputs.data, 1) # _ : nilai maksimum, predicted : indeks dari nilai maksimum tersebut\n",
    "\n",
    "        total_train += labels.size(0)\n",
    "\n",
    "        if CUDA:\n",
    "            correct_train += (predicted.cpu() == labels.cpu()).sum() # sum() tidak ada di GPU, jadi pindahkan ke CPU\n",
    "        else:\n",
    "            correct_train += (predicted == labels).sum()\n",
    "\n",
    "        # hitung loss\n",
    "        loss = criterion(outputs, labels)\n",
    "\n",
    "        # backward\n",
    "        loss.backward()\n",
    "\n",
    "        # update parameter\n",
    "        optimizer.step()    \n",
    "\n",
    "        if (i + 1) % 100 == 0:\n",
    "            print(\"Epoch {}/{} | Iterasi {}/{} | Loss Training : {:.2f} | Akurasi Training :  {:.2f}%\".format(\n",
    "            epoch + 1, epochs, i + 1, len(train_dataset)//batch_size, loss.item(), (100 * correct_train / total_train)))\n",
    "\n",
    "print(\"Training Selesai!\")"
   ]
  },
  {
   "cell_type": "markdown",
   "id": "ae986173",
   "metadata": {},
   "source": [
    "# Testing"
   ]
  },
  {
   "cell_type": "markdown",
   "id": "2c486418",
   "metadata": {},
   "source": [
    "**Pada saat testing, tidak menghitung loss dan bobot serta tidak ada update parameter**"
   ]
  },
  {
   "cell_type": "code",
   "execution_count": 25,
   "id": "e4561e4e",
   "metadata": {},
   "outputs": [
    {
     "name": "stdout",
     "output_type": "stream",
     "text": [
      "Final Akurasi Test : 98.01%\n"
     ]
    }
   ],
   "source": [
    "correct = 0\n",
    "total = 0\n",
    "\n",
    "for images, labels in test_loader:\n",
    "    # ubah ukuran gambar menjadi vektor 1D\n",
    "    images = Variable(images.view(-1, 28 * 28))\n",
    "\n",
    "    if CUDA:\n",
    "        images = images.cuda()\n",
    "\n",
    "    # untuk setiap input dalam batch, akan memberikan output 10 elemen\n",
    "    outputs = net(images)\n",
    "\n",
    "    # dapatkan indeks probabilitas tertinggi\n",
    "    _, predicted = torch.max(outputs.data, 1)\n",
    "\n",
    "    total += labels.size(0)\n",
    "\n",
    "    if CUDA:\n",
    "        correct += (predicted.cpu() == labels.cpu()).sum()\n",
    "    else:\n",
    "        correct += (predicted == labels).sum()\n",
    "\n",
    "\n",
    "print(\"Final Akurasi Test : {:.2f}%\".format(100 * correct / total))"
   ]
  }
 ],
 "metadata": {
  "kernelspec": {
   "display_name": "Python 3",
   "language": "python",
   "name": "python3"
  },
  "language_info": {
   "codemirror_mode": {
    "name": "ipython",
    "version": 3
   },
   "file_extension": ".py",
   "mimetype": "text/x-python",
   "name": "python",
   "nbconvert_exporter": "python",
   "pygments_lexer": "ipython3",
   "version": "3.11.0"
  }
 },
 "nbformat": 4,
 "nbformat_minor": 5
}
